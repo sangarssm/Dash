{
 "cells": [
  {
   "cell_type": "code",
   "execution_count": 34,
   "id": "78420136-0741-44c2-b48a-481c7cce17c9",
   "metadata": {},
   "outputs": [
    {
     "data": {
      "text/html": [
       "\n",
       "        <iframe\n",
       "            width=\"100%\"\n",
       "            height=\"650\"\n",
       "            src=\"http://127.0.0.1:8050/\"\n",
       "            frameborder=\"0\"\n",
       "            allowfullscreen\n",
       "            \n",
       "        ></iframe>\n",
       "        "
      ],
      "text/plain": [
       "<IPython.lib.display.IFrame at 0x1a4854b0470>"
      ]
     },
     "metadata": {},
     "output_type": "display_data"
    }
   ],
   "source": [
    "from dash import Dash, html, dcc, callback, Output, Input\n",
    "import plotly.express as px\n",
    "import pandas as pd\n",
    "df = pd.read_csv(r'C:\\Users\\75047\\Downloads\\datasets(Sheet2) (2).csv', encoding='ISO-8859-1')\n",
    "app = Dash()\n",
    "server = app.server",
    "\n",
    "app.layout = html.Div([\n",
    "    html.H1(children='FIFA Winners', style={'textAlign':'center'}),\n",
    "    html.H2(\"Select a Country:\"),\n",
    "    dcc.RadioItems(\n",
    "        id='Countrys',\n",
    "        options=[{'label':countrys, 'value':countrys} for countrys in df['Countrys'].unique()],\n",
    "        value='Ireland',\n",
    "        inline=True,\n",
    "    ),\n",
    " \n",
    "    dcc.Graph(id='graph-content'),\n",
    "#])\n",
    "    html.Div(id='year-output', style={'textAlign':'center','marginTop':'20px'}),\n",
    "])\n",
    "@callback(\n",
    "    Output('graph-content', 'figure'),\n",
    "    Input('Countrys', 'value')\n",
    ")\n",
    "def update_graph(value):\n",
    "  \n",
    "\n",
    "    dff = df[df.Countrys==value]\n",
    "    \n",
    "\n",
    "    #return px.choropleth(dff, y='Wins')\n",
    "    fig = px.choropleth(\n",
    "        dff,\n",
    "        locations='Countrys',\n",
    "        #featureidkey='properties.Countrys',\n",
    "        color='Wins',\n",
    "        color_continuous_scale=\"Viridis\", \n",
    "        title=f'FIFA Winners',\n",
    "        labels={'Wins':'Number of Wins'},  \n",
    "        locationmode='country names',\n",
    "        hover_name='Countrys'\n",
    "\n",
    "    )\n",
    "    fig.update_geos(showcoastlines=True, coastlinecolor=\"Black\",projection_type=\"natural earth\")\n",
    "    return fig\n",
    "\n",
    "        \n",
    "if __name__ == '__main__':\n",
    "    app.run(debug=True)"
   ]
  },
  {
   "cell_type": "code",
   "execution_count": null,
   "id": "edfcede5-3c45-4990-9fde-389c179624ed",
   "metadata": {},
   "outputs": [],
   "source": []
  }
 ],
 "metadata": {
  "kernelspec": {
   "display_name": "Python [conda env:base] *",
   "language": "python",
   "name": "conda-base-py"
  },
  "language_info": {
   "codemirror_mode": {
    "name": "ipython",
    "version": 3
   },
   "file_extension": ".py",
   "mimetype": "text/x-python",
   "name": "python",
   "nbconvert_exporter": "python",
   "pygments_lexer": "ipython3",
   "version": "3.12.7"
  }
 },
 "nbformat": 4,
 "nbformat_minor": 5
}
